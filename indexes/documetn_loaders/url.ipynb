{
 "cells": [
  {
   "cell_type": "markdown",
   "metadata": {},
   "source": [
    "# URL"
   ]
  },
  {
   "cell_type": "code",
   "execution_count": 4,
   "metadata": {},
   "outputs": [],
   "source": [
    "%%capture\n",
    "!pip install langchain\n",
    "!pip install unstructured"
   ]
  },
  {
   "cell_type": "code",
   "execution_count": 1,
   "metadata": {},
   "outputs": [
    {
     "name": "stderr",
     "output_type": "stream",
     "text": [
      "WARNING:root:Failed to default session, using empty session: HTTPConnectionPool(host='localhost', port=8000): Max retries exceeded with url: /sessions (Caused by NewConnectionError('<urllib3.connection.HTTPConnection object at 0xffff602ab040>: Failed to establish a new connection: [Errno 111] Connection refused'))\n"
     ]
    }
   ],
   "source": [
    "from langchain.document_loaders import UnstructuredURLLoader"
   ]
  },
  {
   "cell_type": "code",
   "execution_count": 2,
   "metadata": {},
   "outputs": [],
   "source": [
    "urls = [\n",
    "    \"https://www.datascientist.or.jp/\"\n",
    "]"
   ]
  },
  {
   "cell_type": "code",
   "execution_count": 5,
   "metadata": {},
   "outputs": [
    {
     "name": "stderr",
     "output_type": "stream",
     "text": [
      "[nltk_data] Downloading package punkt to /home/jovyan/nltk_data...\n",
      "[nltk_data]   Unzipping tokenizers/punkt.zip.\n",
      "[nltk_data] Downloading package averaged_perceptron_tagger to\n",
      "[nltk_data]     /home/jovyan/nltk_data...\n",
      "[nltk_data]   Unzipping taggers/averaged_perceptron_tagger.zip.\n"
     ]
    },
    {
     "data": {
      "text/plain": [
       "[Document(page_content='HOME\\n\\nデータサイエンティスト協会とは\\n\\n\\t設立の背景と目的\\n\\t協会概要\\n\\t組織図・役職員一覧\\n\\t会員一覧\\n\\t沿革\\n\\t定款\\n\\nニュース\\n\\n\\tニュース\\n\\tメディア掲載\\n\\n活動内容\\n\\n\\t活動内容\\n\\t求人情報\\n\\tアワード\\n\\nDS検定™★\\n\\n\\tDS検定™ ★\\n\\tよくある質問\\n\\n入会のご案内\\n\\nサイトマップ\\n\\nお問い合わせ\\n\\nサイトマップ\\n\\nお問い合わせ\\n\\nHOME\\n\\nデータサイエンティスト協会とは\\n\\n\\t設立の背景と目的\\n\\t協会概要\\n\\t組織図・役職員一覧\\n\\t会員一覧\\n\\t沿革\\n\\t定款\\n\\nニュース\\n\\n\\tニュース\\n\\tメディア掲載\\n\\n活動内容\\n\\n\\t活動内容\\n\\t求人情報\\n\\tアワード\\n\\nDS検定™★\\n\\n\\tDS検定™ ★\\n\\tよくある質問\\n\\n入会のご案内\\n\\nサイトマップ\\n\\nお問い合わせ\\n\\nデータサイエンティスト協会について\\n\\n当協会は、新しい職種であるデータサイエンティストに必要となるスキル・知識を定義し、育成のカリキュラム作成、評価制度の構築など、高度IT人材の育成と業界の健全な発展への貢献、啓蒙活動を行っていきます。\\n\\nまた、所属を超えてデータ分析に関わる人材が開かれた環境で交流や議論をし、自由に情報共有や意見発信ができる場を提供していきます。\\n\\n詳しくはこちら\\n\\n最新ニュース\\n\\n2023年04月5日\\n\\nデータサイエンティスト養成講座オンライン 2023年5月開講決定\\n\\n2023年04月3日\\n\\n第4回(2023年6月実施)DS検定の申込期間を更新しました。\\n\\n2023年03月20日\\n\\n大学生向け「データサイエンティスト」に関する調査結果を発表\\n\\n2023年03月20日\\n\\nデータサイエンティスト協会の一般（個人）会員向けに調査を実施\\n\\n2023年02月3日\\n\\nデータサイエンティスト検定 2022年11～12月受験者への合否結果通知\\n\\n一覧はこちら\\n\\nDSS Journal\\n\\n一覧はこちら\\n\\n〒106-0032 東京都港区六本木1-4-5 16F\\u3000WeWorkアークヒルズサウスタワー\\n          Copyright © 2013 The Japan DataScientist Society. All Rights Reserved.\\n\\nサイトマップ ｜\\n\\nお問い合わせ ｜\\n\\n個人情報保護方針 ｜\\n\\n情報セキュリティポリシー', metadata={'source': 'https://www.datascientist.or.jp/'})]"
      ]
     },
     "execution_count": 5,
     "metadata": {},
     "output_type": "execute_result"
    }
   ],
   "source": [
    "loader = UnstructuredURLLoader(urls=urls)\n",
    "data = loader.load()\n",
    "data"
   ]
  },
  {
   "cell_type": "markdown",
   "metadata": {},
   "source": [
    "# Selenium URL Loader\n",
    "* レンダリングにJavaScriptを必要とするページの読み込みに使うことができる"
   ]
  },
  {
   "cell_type": "code",
   "execution_count": 11,
   "metadata": {},
   "outputs": [],
   "source": [
    "%%capture\n",
    "!pip install langchain\n",
    "!pip install unstructured\n",
    "!pip install selenium"
   ]
  },
  {
   "cell_type": "code",
   "execution_count": 12,
   "metadata": {},
   "outputs": [],
   "source": [
    "from langchain.document_loaders import SeleniumURLLoader"
   ]
  },
  {
   "cell_type": "code",
   "execution_count": 16,
   "metadata": {},
   "outputs": [],
   "source": [
    "urls = [\n",
    "    \n",
    "]"
   ]
  },
  {
   "cell_type": "code",
   "execution_count": null,
   "metadata": {},
   "outputs": [],
   "source": [
    "loader = SeleniumURLLoader(urls=urls)\n",
    "data = loader.load()\n",
    "data"
   ]
  },
  {
   "cell_type": "code",
   "execution_count": null,
   "metadata": {},
   "outputs": [],
   "source": []
  }
 ],
 "metadata": {
  "kernelspec": {
   "display_name": "Python 3.10.9 ('base')",
   "language": "python",
   "name": "python3"
  },
  "language_info": {
   "codemirror_mode": {
    "name": "ipython",
    "version": 3
   },
   "file_extension": ".py",
   "mimetype": "text/x-python",
   "name": "python",
   "nbconvert_exporter": "python",
   "pygments_lexer": "ipython3",
   "version": "3.10.9"
  },
  "orig_nbformat": 4,
  "vscode": {
   "interpreter": {
    "hash": "d4d1e4263499bec80672ea0156c357c1ee493ec2b1c70f0acce89fc37c4a6abe"
   }
  }
 },
 "nbformat": 4,
 "nbformat_minor": 2
}
