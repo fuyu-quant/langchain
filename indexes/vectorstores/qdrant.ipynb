{
 "cells": [
  {
   "cell_type": "markdown",
   "metadata": {},
   "source": [
    "# Qdrant"
   ]
  },
  {
   "cell_type": "markdown",
   "metadata": {},
   "source": [
    "[![Open In Colab](https://colab.research.google.com/assets/colab-badge.svg)](https://colab.research.google.com/github/fuyu-quant/langchain/blob/main/examples/models.ipynb)"
   ]
  },
  {
   "cell_type": "code",
   "execution_count": 4,
   "metadata": {},
   "outputs": [],
   "source": [
    "%%capture\n",
    "!pip install langchain\n",
    "!pip install openai\n",
    "!pip install qdrant-client"
   ]
  },
  {
   "cell_type": "code",
   "execution_count": 5,
   "metadata": {},
   "outputs": [],
   "source": [
    "from langchain.embeddings.openai import OpenAIEmbeddings\n",
    "from langchain.text_splitter import CharacterTextSplitter\n",
    "from langchain.vectorstores import Qdrant\n",
    "from langchain.document_loaders import TextLoader"
   ]
  },
  {
   "cell_type": "markdown",
   "metadata": {},
   "source": [
    "### Qdrantのin-memoryの実装\n",
    "* 今回はメモリ上に一時的データを保持して実行するが，ストレージやオンプレサーバー，Qdrant Cloudに保存をすることもできる"
   ]
  },
  {
   "cell_type": "code",
   "execution_count": 6,
   "metadata": {},
   "outputs": [],
   "source": [
    "loader = TextLoader('/home/jovyan/langchain/data/sample.txt')\n",
    "documents = loader.load()\n",
    "text_splitter = CharacterTextSplitter(chunk_size=1000, chunk_overlap=0)\n",
    "docs = text_splitter.split_documents(documents)\n",
    "\n",
    "embeddings = OpenAIEmbeddings()"
   ]
  },
  {
   "cell_type": "code",
   "execution_count": 10,
   "metadata": {},
   "outputs": [],
   "source": [
    "qdrant = Qdrant.from_documents(\n",
    "    docs, embeddings, \n",
    "    location=\":memory:\",  # Local mode with in-memory storage only\n",
    "    collection_name=\"my_documents\",\n",
    ")"
   ]
  },
  {
   "cell_type": "markdown",
   "metadata": {},
   "source": [
    "### 類似文章の検索"
   ]
  },
  {
   "cell_type": "code",
   "execution_count": 11,
   "metadata": {},
   "outputs": [],
   "source": [
    "query = \"kaggleについて\"\n",
    "found_docs = qdrant.similarity_search(query)"
   ]
  },
  {
   "cell_type": "code",
   "execution_count": 12,
   "metadata": {},
   "outputs": [
    {
     "name": "stdout",
     "output_type": "stream",
     "text": [
      "Kaggle社内Meet upとは？\n",
      "「Kaggle」については、ご存知の方も多いと思いますが、企業や組織・団体から投稿された課題とデータをもとに、解決に適した機械学習のモデルを構築して精度を競い合うコンペ式のサービスを言います。\n",
      "当社にはデータサイエンティストが約200名在籍していることもあり、データ分析の技術を研鑽するため、プライベートでKaggleに親しむKagglerが数多く在籍しています。\n",
      "\n",
      "今回のMeet upは、「Kaggleに参加したことがある」「参加したことはないけれど興味がある」「Kaggleに限らず技術コンペについて情報収集したい」という社員同志が、交流できるように企画されたイベントです！\n",
      "\n",
      "オフラインとオンラインの同時開催\n",
      "感染症対策の考慮もしつつ、当日は本社オフィスの広い会場（セミナールーム）にて、オフラインとオンライン、どちらでも参加可能なハイブリッド形式で開催されました。\n",
      "\n",
      "悪天候にも関わらずセミナールームには約30名が集合し、オンラインでは社員の他に新卒の内定者も加わって、総勢90名が参加する大きなイベントとなりました。\n",
      "中には、懇親会を楽しみに、お客様先などから本社オフィスへ移動してくる参加者もいました。\n",
      "\n",
      "当日のコンテンツ\n",
      "前半は、Kaggle歴1年目からKaggle master（！）まで幅広い経歴の4名によるライトニングトークが行われました。\n",
      "\n",
      "Kaggleに参加する動機、参加するコンペの選択方法、戦績、Kaggleの取り組み方、参加して得られたこと、苦しみ…など、幅広い話題が思い思いの形で発表され、笑いが起きる場面もしばしば。発表後には様々な質疑が飛び交いました。\n",
      "\n",
      "後半は、ピザなどの軽食とドリンクなどを囲み、懇親会が開催されました。皆さん、和気あいあいと打ち解けていました。\n",
      "\n",
      "\n",
      "参加者の感想\n",
      "\n",
      "普段あまりKaggleの活動について話す機会がないため、とても充実した時間を過ごすことができた。\n",
      "楽しそうに取り組んでいる様子が伝わってきて自分のモチベーションにもつながった。\n",
      "まだKaggleに取り組んだことがなく、コンペの選び方などがさっぱり分からなかったので、ライトニングトークが非常に参考になった。\n",
      "お客様への報告資料のようにまとめられていたところが、ブレインパッドっぽくて面白かったです。\n"
     ]
    }
   ],
   "source": [
    "print(found_docs[0].page_content)"
   ]
  },
  {
   "cell_type": "markdown",
   "metadata": {},
   "source": [
    "### スコア付きの類似文章の検索"
   ]
  },
  {
   "cell_type": "code",
   "execution_count": 13,
   "metadata": {},
   "outputs": [],
   "source": [
    "query = \"kaggleについて\"\n",
    "found_docs = qdrant.similarity_search_with_score(query)"
   ]
  },
  {
   "cell_type": "code",
   "execution_count": 15,
   "metadata": {},
   "outputs": [
    {
     "name": "stdout",
     "output_type": "stream",
     "text": [
      "Kaggle社内Meet upとは？\n",
      "「Kaggle」については、ご存知の方も多いと思いますが、企業や組織・団体から投稿された課題とデータをもとに、解決に適した機械学習のモデルを構築して精度を競い合うコンペ式のサービスを言います。\n",
      "当社にはデータサイエンティストが約200名在籍していることもあり、データ分析の技術を研鑽するため、プライベートでKaggleに親しむKagglerが数多く在籍しています。\n",
      "\n",
      "今回のMeet upは、「Kaggleに参加したことがある」「参加したことはないけれど興味がある」「Kaggleに限らず技術コンペについて情報収集したい」という社員同志が、交流できるように企画されたイベントです！\n",
      "\n",
      "オフラインとオンラインの同時開催\n",
      "感染症対策の考慮もしつつ、当日は本社オフィスの広い会場（セミナールーム）にて、オフラインとオンライン、どちらでも参加可能なハイブリッド形式で開催されました。\n",
      "\n",
      "悪天候にも関わらずセミナールームには約30名が集合し、オンラインでは社員の他に新卒の内定者も加わって、総勢90名が参加する大きなイベントとなりました。\n",
      "中には、懇親会を楽しみに、お客様先などから本社オフィスへ移動してくる参加者もいました。\n",
      "\n",
      "当日のコンテンツ\n",
      "前半は、Kaggle歴1年目からKaggle master（！）まで幅広い経歴の4名によるライトニングトークが行われました。\n",
      "\n",
      "Kaggleに参加する動機、参加するコンペの選択方法、戦績、Kaggleの取り組み方、参加して得られたこと、苦しみ…など、幅広い話題が思い思いの形で発表され、笑いが起きる場面もしばしば。発表後には様々な質疑が飛び交いました。\n",
      "\n",
      "後半は、ピザなどの軽食とドリンクなどを囲み、懇親会が開催されました。皆さん、和気あいあいと打ち解けていました。\n",
      "\n",
      "\n",
      "参加者の感想\n",
      "\n",
      "普段あまりKaggleの活動について話す機会がないため、とても充実した時間を過ごすことができた。\n",
      "楽しそうに取り組んでいる様子が伝わってきて自分のモチベーションにもつながった。\n",
      "まだKaggleに取り組んだことがなく、コンペの選び方などがさっぱり分からなかったので、ライトニングトークが非常に参考になった。\n",
      "お客様への報告資料のようにまとめられていたところが、ブレインパッドっぽくて面白かったです。\n",
      "\n",
      "Score: 0.8916000071918352\n"
     ]
    }
   ],
   "source": [
    "document, score = found_docs[0]\n",
    "print(document.page_content)\n",
    "print(f\"\\nScore: {score}\")"
   ]
  },
  {
   "cell_type": "markdown",
   "metadata": {},
   "source": [
    "### Maximum marginal relevance search(MMR)\n",
    "* 似たような文章だけでなく多様な文章を取得したいときに使う"
   ]
  },
  {
   "cell_type": "code",
   "execution_count": 16,
   "metadata": {},
   "outputs": [],
   "source": [
    "query = \"kaggleについて\"\n",
    "found_docs = qdrant.max_marginal_relevance_search(query, k=2, fetch_k=10)"
   ]
  },
  {
   "cell_type": "code",
   "execution_count": 17,
   "metadata": {},
   "outputs": [
    {
     "name": "stdout",
     "output_type": "stream",
     "text": [
      "1. Kaggle社内Meet upとは？\n",
      "「Kaggle」については、ご存知の方も多いと思いますが、企業や組織・団体から投稿された課題とデータをもとに、解決に適した機械学習のモデルを構築して精度を競い合うコンペ式のサービスを言います。\n",
      "当社にはデータサイエンティストが約200名在籍していることもあり、データ分析の技術を研鑽するため、プライベートでKaggleに親しむKagglerが数多く在籍しています。\n",
      "\n",
      "今回のMeet upは、「Kaggleに参加したことがある」「参加したことはないけれど興味がある」「Kaggleに限らず技術コンペについて情報収集したい」という社員同志が、交流できるように企画されたイベントです！\n",
      "\n",
      "オフラインとオンラインの同時開催\n",
      "感染症対策の考慮もしつつ、当日は本社オフィスの広い会場（セミナールーム）にて、オフラインとオンライン、どちらでも参加可能なハイブリッド形式で開催されました。\n",
      "\n",
      "悪天候にも関わらずセミナールームには約30名が集合し、オンラインでは社員の他に新卒の内定者も加わって、総勢90名が参加する大きなイベントとなりました。\n",
      "中には、懇親会を楽しみに、お客様先などから本社オフィスへ移動してくる参加者もいました。\n",
      "\n",
      "当日のコンテンツ\n",
      "前半は、Kaggle歴1年目からKaggle master（！）まで幅広い経歴の4名によるライトニングトークが行われました。\n",
      "\n",
      "Kaggleに参加する動機、参加するコンペの選択方法、戦績、Kaggleの取り組み方、参加して得られたこと、苦しみ…など、幅広い話題が思い思いの形で発表され、笑いが起きる場面もしばしば。発表後には様々な質疑が飛び交いました。\n",
      "\n",
      "後半は、ピザなどの軽食とドリンクなどを囲み、懇親会が開催されました。皆さん、和気あいあいと打ち解けていました。\n",
      "\n",
      "\n",
      "参加者の感想\n",
      "\n",
      "普段あまりKaggleの活動について話す機会がないため、とても充実した時間を過ごすことができた。\n",
      "楽しそうに取り組んでいる様子が伝わってきて自分のモチベーションにもつながった。\n",
      "まだKaggleに取り組んだことがなく、コンペの選び方などがさっぱり分からなかったので、ライトニングトークが非常に参考になった。\n",
      "お客様への報告資料のようにまとめられていたところが、ブレインパッドっぽくて面白かったです。 \n",
      "\n",
      "2. などなど…。これらの感想のとおり、「とっても有意義だったー」という雰囲気が伝われば嬉しいです。\n",
      "\n",
      "まとめ\n",
      "Kaggleのような技術コンペへの参加動機は人それぞれですが、業務とプライベートとを切り替えながら、時間などを工夫してそれぞれ参加していることがよく分かりました。\n",
      "また、在宅勤務と出社を併用できるフレキシブルな働き方に変わってきたからこそ、普段の業務で関わりのない人とのコミュニケーション機会が大切になってきていることを感じる会でした。\n",
      "主催者の皆様、企画ありがとうございました！！\n",
      "\n",
      "最後に\n",
      "Kaggle以外にも、当社では様々なナレッジ共有が日々行われています。\n",
      "\n",
      "・データ分析のナレッジ配信「OpenBrainPad Project」\n",
      "\n",
      "・有志のデータサイエンティストで運営しているPodcast「白金鉱業.FM」\n",
      "\n",
      "・プロジェクト紹介サイト「+AI」\n",
      "\n",
      "\n",
      "また当社では積極的に採用活動を行っています。\n",
      "ご興味をお持ちいただきましたら、ぜひ採用サイトからエントリ―をお願いいたします！ \n",
      "\n"
     ]
    }
   ],
   "source": [
    "for i, doc in enumerate(found_docs):\n",
    "    print(f\"{i + 1}.\", doc.page_content, \"\\n\")\n"
   ]
  },
  {
   "cell_type": "code",
   "execution_count": null,
   "metadata": {},
   "outputs": [],
   "source": []
  }
 ],
 "metadata": {
  "kernelspec": {
   "display_name": "Python 3.10.9 ('base')",
   "language": "python",
   "name": "python3"
  },
  "language_info": {
   "codemirror_mode": {
    "name": "ipython",
    "version": 3
   },
   "file_extension": ".py",
   "mimetype": "text/x-python",
   "name": "python",
   "nbconvert_exporter": "python",
   "pygments_lexer": "ipython3",
   "version": "3.10.9"
  },
  "orig_nbformat": 4,
  "vscode": {
   "interpreter": {
    "hash": "d4d1e4263499bec80672ea0156c357c1ee493ec2b1c70f0acce89fc37c4a6abe"
   }
  }
 },
 "nbformat": 4,
 "nbformat_minor": 2
}
