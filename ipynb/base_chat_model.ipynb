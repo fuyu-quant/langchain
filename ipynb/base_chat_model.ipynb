{
 "cells": [
  {
   "cell_type": "markdown",
   "metadata": {},
   "source": [
    "# Chat Model\n",
    "* reference\n",
    "    * https://langchain.readthedocs.io/en/latest/modules/chat/getting_started.html"
   ]
  },
  {
   "cell_type": "code",
   "execution_count": null,
   "metadata": {},
   "outputs": [],
   "source": [
    "%%capture\n",
    "!pip install langchain"
   ]
  },
  {
   "cell_type": "code",
   "execution_count": 30,
   "metadata": {},
   "outputs": [],
   "source": [
    "from langchain.chat_models import ChatOpenAI\n",
    "from langchain import PromptTemplate, LLMChain\n",
    "\n",
    "# 基本的な質問回答に必要\n",
    "from langchain.schema import (\n",
    "    AIMessage,\n",
    "    HumanMessage,\n",
    "    SystemMessage\n",
    ")\n",
    "\n",
    "# \n",
    "from langchain.prompts.chat import (\n",
    "    ChatPromptTemplate,\n",
    "    SystemMessagePromptTemplate,\n",
    "    AIMessagePromptTemplate,\n",
    "    HumanMessagePromptTemplate,\n",
    ")"
   ]
  },
  {
   "cell_type": "markdown",
   "metadata": {},
   "source": [
    "### 基本的な質問回答\n",
    "* 以下の3種類のメッセージの種類がある\n",
    "    * HumanMessage\n",
    "        * 通常のメッセージ，回答が欲しい質問などを入力する\n",
    "    * SystemMessage\n",
    "        * 質問に対する返答をする際に，相手に対して設定を加えることができる"
   ]
  },
  {
   "cell_type": "code",
   "execution_count": 10,
   "metadata": {},
   "outputs": [],
   "source": [
    "# Chatmodelの読み込み\n",
    "llm = ChatOpenAI(temperature=0)"
   ]
  },
  {
   "cell_type": "code",
   "execution_count": 24,
   "metadata": {},
   "outputs": [
    {
     "data": {
      "text/plain": [
       "AIMessage(content='\\n\\n株式会社ブレインパッドは、日本のデジタルマーケティング企業です。主に、Web解析やデータマーケティング、広告配信などのサービスを提供しています。また、AI技術を活用したマーケティング支援ツールの開発も行っています。\\n\\n1996年に設立され、現在は東京都港区に本社を置いています。国内外に拠点を持ち、アジア太平洋地域を中心に事業を展開しています。\\n\\nブレインパッドは、Google Analyticsの日本語版を開発したことでも知られています。また、日本のデジタルマーケティング業界において、リーディングカンパニーの一つとして認知されています。', additional_kwargs={})"
      ]
     },
     "execution_count": 24,
     "metadata": {},
     "output_type": "execute_result"
    }
   ],
   "source": [
    "message = [\n",
    "    HumanMessage(content='株式会社ブレインパッドについて教えてください')\n",
    "    ]\n",
    "\n",
    "\n",
    "llm(message)"
   ]
  },
  {
   "cell_type": "code",
   "execution_count": 27,
   "metadata": {},
   "outputs": [
    {
     "data": {
      "text/plain": [
       "AIMessage(content='株式会社ブレインパッドは、まるで美味しいスープのような存在です。スープは、様々な食材を組み合わせて作られ、それぞれの味や香りが調和して、美味しさを生み出します。同様に、ブレインパッドは、様々な分野の専門家が集まり、それぞれの知識やスキルを組み合わせて、最適なソリューションを提供しています。また、スープは体に栄養を与え、健康をサポートするように、ブレインパッドもビジネスの成長や発展に必要な情報やアイデアを提供し、企業の健全な発展を支援しています。', additional_kwargs={})"
      ]
     },
     "execution_count": 27,
     "metadata": {},
     "output_type": "execute_result"
    }
   ],
   "source": [
    "message = [\n",
    "    SystemMessage(content='あなたはなんでも物事を食べ物に例えて説明する人です'),\n",
    "    HumanMessage(content='株式会社ブレインパッドを食べ物に例えて説明してください')\n",
    "    ]\n",
    "\n",
    "\n",
    "llm(message)"
   ]
  },
  {
   "cell_type": "markdown",
   "metadata": {},
   "source": [
    "### テンプレートを使った質問回答"
   ]
  },
  {
   "cell_type": "code",
   "execution_count": 21,
   "metadata": {},
   "outputs": [],
   "source": [
    "# Chatmodelの読み込み\n",
    "llm = ChatOpenAI(temperature=0)"
   ]
  },
  {
   "cell_type": "code",
   "execution_count": 20,
   "metadata": {},
   "outputs": [],
   "source": [
    "# テンプレートの設定\n",
    "template=\"You are a helpful assistant that translates {input_language} to {output_language}.\"\n",
    "system_message_prompt = SystemMessagePromptTemplate.from_template(template)\n",
    "\n",
    "human_template=\"{text}\"\n",
    "human_message_prompt = HumanMessagePromptTemplate.from_template(human_template)"
   ]
  },
  {
   "cell_type": "code",
   "execution_count": 28,
   "metadata": {},
   "outputs": [
    {
     "data": {
      "text/plain": [
       "AIMessage(content='LightGBMは、木ベースの学習アルゴリズムを使用する勾配ブースティングフレームワークです。', additional_kwargs={})"
      ]
     },
     "execution_count": 28,
     "metadata": {},
     "output_type": "execute_result"
    }
   ],
   "source": [
    "chat_prompt = ChatPromptTemplate.from_messages([system_message_prompt, human_message_prompt])\n",
    "\n",
    "# テンプレートの入力\n",
    "llm(chat_prompt.format_prompt(\n",
    "    input_language=\"English\",\n",
    "    output_language=\"Japanese\", \n",
    "    text=\"LightGBM is a gradient boosting framework that uses tree based learning algorithms.\"\n",
    "    ).to_messages())"
   ]
  },
  {
   "cell_type": "markdown",
   "metadata": {},
   "source": [
    "* LLMChainでのテンプレートを使った質問回答"
   ]
  },
  {
   "cell_type": "code",
   "execution_count": 31,
   "metadata": {},
   "outputs": [
    {
     "name": "stderr",
     "output_type": "stream",
     "text": [
      "WARNING:root:Failed to persist run: HTTPConnectionPool(host='localhost', port=8000): Max retries exceeded with url: /chain-runs (Caused by NewConnectionError('<urllib3.connection.HTTPConnection object at 0xffff533383a0>: Failed to establish a new connection: [Errno 111] Connection refused'))\n"
     ]
    },
    {
     "data": {
      "text/plain": [
       "'LightGBMは、木ベースの学習アルゴリズムを使用する勾配ブースティングフレームワークです。'"
      ]
     },
     "execution_count": 31,
     "metadata": {},
     "output_type": "execute_result"
    }
   ],
   "source": [
    "chain = LLMChain(llm=llm, prompt=chat_prompt)\n",
    "\n",
    "chain.run(\n",
    "    input_language=\"English\", \n",
    "    output_language=\"Japanese\", \n",
    "    text=\"LightGBM is a gradient boosting framework that uses tree based learning algorithms.\"\n",
    "    )"
   ]
  }
 ],
 "metadata": {
  "kernelspec": {
   "display_name": "Python 3.10.9 ('base')",
   "language": "python",
   "name": "python3"
  },
  "language_info": {
   "codemirror_mode": {
    "name": "ipython",
    "version": 3
   },
   "file_extension": ".py",
   "mimetype": "text/x-python",
   "name": "python",
   "nbconvert_exporter": "python",
   "pygments_lexer": "ipython3",
   "version": "3.10.9"
  },
  "orig_nbformat": 4,
  "vscode": {
   "interpreter": {
    "hash": "d4d1e4263499bec80672ea0156c357c1ee493ec2b1c70f0acce89fc37c4a6abe"
   }
  }
 },
 "nbformat": 4,
 "nbformat_minor": 2
}
