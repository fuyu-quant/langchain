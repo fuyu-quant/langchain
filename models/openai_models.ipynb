{
 "cells": [
  {
   "cell_type": "markdown",
   "metadata": {},
   "source": [
    "# Models\n",
    "* https://platform.openai.com/docs/models/overview"
   ]
  },
  {
   "cell_type": "markdown",
   "metadata": {},
   "source": [
    "[![Open In Colab](https://colab.research.google.com/assets/colab-badge.svg)](https://colab.research.google.com/github/fuyu-quant/langchain/blob/main/examples/models.ipynb)"
   ]
  },
  {
   "cell_type": "code",
   "execution_count": null,
   "metadata": {},
   "outputs": [],
   "source": [
    "%%capture\n",
    "!pip install langchain\n",
    "!pip install openai"
   ]
  },
  {
   "cell_type": "code",
   "execution_count": 1,
   "metadata": {},
   "outputs": [
    {
     "name": "stderr",
     "output_type": "stream",
     "text": [
      "WARNING:root:Failed to default session, using empty session: HTTPConnectionPool(host='localhost', port=8000): Max retries exceeded with url: /sessions (Caused by NewConnectionError('<urllib3.connection.HTTPConnection object at 0xffff804d8b20>: Failed to establish a new connection: [Errno 111] Connection refused'))\n"
     ]
    }
   ],
   "source": [
    "from langchain.llms import OpenAI"
   ]
  },
  {
   "cell_type": "code",
   "execution_count": null,
   "metadata": {},
   "outputs": [],
   "source": [
    "import os\n",
    "\n",
    "os.environ[\"LANGCHAIN_HANDLER\"] = \"langchain\"\n",
    "os.environ[\"OPENAI_API_KEY\"] = \"\""
   ]
  },
  {
   "cell_type": "markdown",
   "metadata": {},
   "source": [
    "### GPT-4\n",
    "* https://platform.openai.com/docs/models/gpt-4"
   ]
  },
  {
   "cell_type": "code",
   "execution_count": 43,
   "metadata": {},
   "outputs": [],
   "source": [
    "# GPT-4\n",
    "# 3/18現在はまだ使えない\n",
    "# https://platform.openai.com/docs/models/gpt-4\n",
    "\n",
    "#model_name=\"gpt-4\"\n",
    "#model_name=\"gpt-4-0314\"\n",
    "#model_name=\"gpt-4-32k\"\n",
    "#model_name=\"gpt-4-32k-0314\"\n",
    "\n",
    "\n",
    "# GPT-3.5\n",
    "# https://platform.openai.com/docs/models/gpt-3-5\n",
    "\n",
    "model_name=\"gpt-3.5-turbo\"  # GPT-3.5モデルの中で最も安価で推奨されている\n",
    "model_name=\"gpt-3.5-turbo-0301\"\n",
    "model_name=\"text-davinci-003\"\n",
    "model_name=\"text-davinci-002\"\n",
    "model_name=\"code-davinci-002\"\n",
    "\n",
    "\n",
    "# GPT-3\n",
    "# https://platform.openai.com/docs/models/gpt-3\n",
    "\n",
    "model_name=\"text-curie-001\"\n",
    "model_name=\"text-babbage-001\"\n",
    "model_name=\"text-ada-001\"\n",
    "model_name=\"davinci\"\n",
    "model_name=\"curie\"\n",
    "model_name=\"babbage\"\n",
    "model_name=\"ada\"\n"
   ]
  },
  {
   "cell_type": "markdown",
   "metadata": {},
   "source": [
    "### 実行例"
   ]
  },
  {
   "cell_type": "code",
   "execution_count": 16,
   "metadata": {},
   "outputs": [
    {
     "name": "stderr",
     "output_type": "stream",
     "text": [
      "WARNING:root:Failed to persist run: HTTPConnectionPool(host='localhost', port=8000): Max retries exceeded with url: /llm-runs (Caused by NewConnectionError('<urllib3.connection.HTTPConnection object at 0xffff7319a0b0>: Failed to establish a new connection: [Errno 111] Connection refused'))\n"
     ]
    },
    {
     "data": {
      "text/plain": [
       "'「人生はマラソンじゃなくて、スプリントだと思ってる。だから、いつも全力疾走してるんだ。でも、たまには休憩も必要だよね。そう思って、今日はソファに座って、Netflix三昧の休日を過ごすことにしたんだ。」'"
      ]
     },
     "execution_count": 16,
     "metadata": {},
     "output_type": "execute_result"
    }
   ],
   "source": [
    "model_name=\"gpt-3.5-turbo\"\n",
    "llm = OpenAI(temperature=0, model_name=model_name)\n",
    "llm(\"面白いことを言って\")"
   ]
  },
  {
   "cell_type": "markdown",
   "metadata": {},
   "source": [
    "### パラメータの設定"
   ]
  },
  {
   "cell_type": "code",
   "execution_count": 56,
   "metadata": {},
   "outputs": [
    {
     "name": "stderr",
     "output_type": "stream",
     "text": [
      "WARNING:root:Failed to persist run: HTTPConnectionPool(host='localhost', port=8000): Max retries exceeded with url: /llm-runs (Caused by NewConnectionError('<urllib3.connection.HTTPConnection object at 0xffff72eabf40>: Failed to establish a new connection: [Errno 111] Connection refused'))\n"
     ]
    },
    {
     "data": {
      "text/plain": [
       "'「人生はマラソンじゃなくて、スプリントだと思ってる。だから、'"
      ]
     },
     "execution_count": 56,
     "metadata": {},
     "output_type": "execute_result"
    }
   ],
   "source": [
    "model_name=\"gpt-3.5-turbo\"\n",
    "llm = OpenAI(\n",
    "    model_name=model_name,\n",
    "    temperature=0, \n",
    "    max_tokens=30,\n",
    "    top_p=1,\n",
    "    frequency_penalty=0,\n",
    "    presence_penalty=0,\n",
    "    n=1,\n",
    "    request_timeout=None\n",
    "    )\n",
    "llm(\"面白いことを言って\")"
   ]
  }
 ],
 "metadata": {
  "kernelspec": {
   "display_name": "Python 3.10.9 ('base')",
   "language": "python",
   "name": "python3"
  },
  "language_info": {
   "codemirror_mode": {
    "name": "ipython",
    "version": 3
   },
   "file_extension": ".py",
   "mimetype": "text/x-python",
   "name": "python",
   "nbconvert_exporter": "python",
   "pygments_lexer": "ipython3",
   "version": "3.10.9"
  },
  "orig_nbformat": 4,
  "vscode": {
   "interpreter": {
    "hash": "d4d1e4263499bec80672ea0156c357c1ee493ec2b1c70f0acce89fc37c4a6abe"
   }
  }
 },
 "nbformat": 4,
 "nbformat_minor": 2
}
