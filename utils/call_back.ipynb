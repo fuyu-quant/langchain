{
 "cells": [
  {
   "cell_type": "markdown",
   "metadata": {},
   "source": [
    "# GPT-3/4のコストの出力"
   ]
  },
  {
   "cell_type": "code",
   "execution_count": 2,
   "metadata": {},
   "outputs": [],
   "source": [
    "from langchain.llms import OpenAI\n",
    "from langchain.callbacks import get_openai_callback"
   ]
  },
  {
   "cell_type": "code",
   "execution_count": 11,
   "metadata": {},
   "outputs": [],
   "source": [
    "model_name=\"gpt-3.5-turbo\"\n",
    "llm = OpenAI(model_name=model_name)"
   ]
  },
  {
   "cell_type": "code",
   "execution_count": 12,
   "metadata": {},
   "outputs": [
    {
     "name": "stdout",
     "output_type": "stream",
     "text": [
      "機械学習とは、コンピュータプログラムがデータから学習し、将来のデータを取り扱うための手法であり、人工知能の一種です。\n",
      "\n",
      "機械学習では、大量のデータを解析して、データに潜む規則性やパターンを見つけ出し、その規則性やパターンを元に予測や分類を行います。\n",
      "\n",
      "機械学習には、以下のような手法があります。\n",
      "\n",
      "1. 教師あり学習：データセットにラベル付けされた教師データを用いて学習し、その学習結果を新しいデータに適用する手法。\n",
      "2. 教師なし学習：データセットにラベルが付いていないデータを用いて、データの中にある規則性を探し出す手法。\n",
      "3. 強化学習：エージェントという行動主体が環境とやりとりしながら学習する手法。\n",
      "\n",
      "機械学習は、画像解析や音声認識、自然言語処理、予測分析など、さまざまな分野で応用されています。\n",
      "Tokens Used: 417\n",
      "\tPrompt Tokens: 27\n",
      "\tCompletion Tokens: 390\n",
      "Successful Requests: 1\n",
      "Total Cost (USD): $0.000834\n"
     ]
    }
   ],
   "source": [
    "prompt = \"機械学習について教えてください\"\n",
    "\n",
    "with get_openai_callback() as cb:\n",
    "    result = llm(prompt)\n",
    "    print(result)\n",
    "    print(cb)"
   ]
  },
  {
   "cell_type": "code",
   "execution_count": 13,
   "metadata": {},
   "outputs": [],
   "source": [
    "model_name=\"gpt-4\"\n",
    "llm = OpenAI(model_name=model_name)"
   ]
  },
  {
   "cell_type": "code",
   "execution_count": 14,
   "metadata": {},
   "outputs": [
    {
     "name": "stdout",
     "output_type": "stream",
     "text": [
      "機械学習は、人工知能の一分野であり、コンピュータープログラムがデータや経験から学習し、自動的にその性能を改善する能力を持たせる技術です。これにより、プログラムは明示的な指示がなくてもデータを処理し、タスクを解決する方法を見つけることができます。\n",
      "\n",
      "機械学習には、主に以下の3つのタイプがあります。\n",
      "\n",
      "1. 教師あり学習（Supervised Learning）: このタイプでは、訓練データに入力と正解（ラベル）が含まれており、プログラムはこのデータを使用して汎化されたモデルを構築し、未知のデータ（新しい入力）に対して正確な出力を予測する方法を学習します。分類と回帰が主なタスクです。\n",
      "\n",
      "2. 教師なし学習（Unsupervised Learning）: 訓練データには入力データのみが含まれており、正解（ラベル）は提供されません。プログラムは、データの構造やパターンを見つけ出すことに焦点を当てて学習します。クラスタリングや次元削減が主なタスクです。\n",
      "\n",
      "3. 強化学習（Reinforcement Learning）: このタイプでは、プログラム（エージェント）は環境と相互作用しながら学習し、行動を実行することで報酬（またはペナルティ）を受け取ります。目標は、長期的に最大の報酬を得られるように行動の方策を最適化することです。強化学習は、ゲームやロボティクスなどの動的な環境で良く使用されます。\n",
      "\n",
      "機械学習のアルゴリズムには、線形回帰、ロジスティック回帰、決定木、サポートベクターマシン、ニューラルネットワーク、クラスタリングアルゴリズム、主成分分析、強化学習アルゴリズムなど、多くの種類があります。また、機械学習は画像認識、音声認識、自然言語処理、医療診断、株価予測、自動運転車など様々な分野で広く活用されています。\n",
      "Tokens Used: 804\n",
      "\tPrompt Tokens: 26\n",
      "\tCompletion Tokens: 778\n",
      "Successful Requests: 1\n",
      "Total Cost (USD): $0.04746\n"
     ]
    }
   ],
   "source": [
    "prompt = \"機械学習について教えてください\"\n",
    "\n",
    "with get_openai_callback() as cb:\n",
    "    result = llm(prompt)\n",
    "    print(result)\n",
    "    print(cb)"
   ]
  },
  {
   "cell_type": "code",
   "execution_count": null,
   "metadata": {},
   "outputs": [],
   "source": []
  }
 ],
 "metadata": {
  "kernelspec": {
   "display_name": "Python 3.10.9 ('base')",
   "language": "python",
   "name": "python3"
  },
  "language_info": {
   "codemirror_mode": {
    "name": "ipython",
    "version": 3
   },
   "file_extension": ".py",
   "mimetype": "text/x-python",
   "name": "python",
   "nbconvert_exporter": "python",
   "pygments_lexer": "ipython3",
   "version": "3.10.9"
  },
  "orig_nbformat": 4,
  "vscode": {
   "interpreter": {
    "hash": "d4d1e4263499bec80672ea0156c357c1ee493ec2b1c70f0acce89fc37c4a6abe"
   }
  }
 },
 "nbformat": 4,
 "nbformat_minor": 2
}
