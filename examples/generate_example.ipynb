{
 "cells": [
  {
   "cell_type": "code",
   "execution_count": null,
   "metadata": {},
   "outputs": [],
   "source": [
    "from langchain.llms.openai import OpenAI\n",
    "from langchain.example_generator import generate_example\n",
    "from langchain.prompts import PromptTemplate"
   ]
  },
  {
   "cell_type": "code",
   "execution_count": null,
   "metadata": {},
   "outputs": [],
   "source": [
    "examples = [\n",
    "    {\n",
    "    \"question\": \"株式会社ブレインパッドはいつ創業されいつ創業されましたか？\",\n",
    "     \"answer\": \"a\"\n",
    "    },\n",
    "    {\n",
    "    \"question\": \"株式会社ブレインパッドはいつ創業されいつ創業されましたか？\",\n",
    "     \"answer\": \"a\"\n",
    "    },\n",
    "     {\n",
    "    \"question\": \"株式会社ブレインパッドはいつ創業されいつ創業されましたか？\",\n",
    "     \"answer\": \"a\"\n",
    "    }\n",
    "]"
   ]
  },
  {
   "cell_type": "code",
   "execution_count": null,
   "metadata": {},
   "outputs": [],
   "source": [
    "example_template = PromptTemplate(template=\"Question: {question}\\n{answer}\", input_variables=[\"question\", \"answer\"])\n",
    "\n",
    "new_example = generate_example(examples, OpenAI(), example_template)\n",
    "\n",
    "new_example.split('\\n')"
   ]
  }
 ],
 "metadata": {
  "kernelspec": {
   "display_name": "Python 3.10.6 64-bit",
   "language": "python",
   "name": "python3"
  },
  "language_info": {
   "name": "python",
   "version": "3.10.6"
  },
  "orig_nbformat": 4,
  "vscode": {
   "interpreter": {
    "hash": "31f2aee4e71d21fbe5cf8b01ff0e069b9275f58929596ceb00d14d90e3e16cd6"
   }
  }
 },
 "nbformat": 4,
 "nbformat_minor": 2
}
