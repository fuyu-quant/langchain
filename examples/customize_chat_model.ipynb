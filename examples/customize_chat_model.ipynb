{
 "cells": [
  {
   "cell_type": "markdown",
   "metadata": {},
   "source": [
    "# Customize Chat model\n",
    "* Building a chat model for conversation\n",
    "* reference\n",
    "    * https://langchain.readthedocs.io/en/latest/modules/agents/examples/chat_conversation_agent.html\n",
    "    https://note.com/npaka/n/n6b7a07e492f1"
   ]
  },
  {
   "cell_type": "markdown",
   "metadata": {
    "colab_type": "text",
    "id": "view-in-github"
   },
   "source": [
    "[![Open In Colab](https://colab.research.google.com/assets/colab-badge.svg)](https://colab.research.google.com/github/fuyu-quant/langchain/blob/main/examples/customize_chat_model.ipynb)"
   ]
  },
  {
   "cell_type": "code",
   "execution_count": 2,
   "metadata": {},
   "outputs": [],
   "source": [
    "%%capture\n",
    "!pip install langchain\n",
    "!pip install google-search-results\n",
    "!pip install openai"
   ]
  },
  {
   "cell_type": "code",
   "execution_count": 3,
   "metadata": {},
   "outputs": [],
   "source": [
    "from langchain.utilities import SerpAPIWrapper\n",
    "from langchain.chat_models import ChatOpenAI\n",
    "from langchain.agents import Tool\n",
    "from langchain.memory import ConversationBufferMemory\n",
    "from langchain.agents import initialize_agent"
   ]
  },
  {
   "cell_type": "markdown",
   "metadata": {},
   "source": [
    "## ツール一覧\n",
    "* python_relp\n",
    "    * pythonコマンドを実行できる．\n",
    "* serpapi\n",
    "    * サーチエンジン，現在のイベントに関する質問に答える必要がある場合に役に立つ\n",
    "* requests\n",
    "    * サイトから特定のコンテンツを取得する場合に使う\n",
    "    * 入力はURLで出力はそのページの全てのテキスト\n",
    "* terminal\n",
    "    * ターミナルでのコマンド実行\n",
    "* llm-math\n",
    "    * 数学の質問に答えるよう\n",
    "* pal-math\n",
    "    * 数学の質問に答えるよう\n",
    "* pal-colored-objects\n",
    "    * オブジェクトの位置と色についての推論に優れた言語モデル\n",
    "* open-meteo-api\n",
    "    * 気象情報を取得したい場合に使う\n",
    "* news-api\n",
    "    * 現在のニュース記事のトップ，ヘッドラインに関する情報を取得する\n",
    "* tmdb-api\n",
    "    * The Movie Databaseから情報を取得するのに使う"
   ]
  },
  {
   "cell_type": "code",
   "execution_count": null,
   "metadata": {},
   "outputs": [],
   "source": [
    "tools = load_tools([\"serpapi\", \"llm-math\"], llm=llm)"
   ]
  },
  {
   "cell_type": "code",
   "execution_count": null,
   "metadata": {},
   "outputs": [],
   "source": [
    "# https://langchain.readthedocs.io/en/latest/modules/agents/implementations/react.html\n",
    "\n",
    "from langchain import OpenAI, Wikipedia\n",
    "from langchain.agents import initialize_agent, Tool\n",
    "from langchain.agents.react.base import DocstoreExplorer\n",
    "docstore=DocstoreExplorer(Wikipedia())\n",
    "tools = [\n",
    "    Tool(\n",
    "        name=\"Search\",\n",
    "        func=docstore.search,\n",
    "        description=\"useful for when you need to ask with search\"\n",
    "    ),\n",
    "    Tool(\n",
    "        name=\"Lookup\",\n",
    "        func=docstore.lookup,\n",
    "        description=\"useful for when you need to ask with lookup\"\n",
    "    )\n",
    "]\n",
    "\n",
    "llm = OpenAI(temperature=0, model_name=\"text-davinci-002\")\n",
    "react = initialize_agent(tools, llm, agent=\"react-docstore\", verbose=True)"
   ]
  },
  {
   "cell_type": "code",
   "execution_count": null,
   "metadata": {},
   "outputs": [],
   "source": [
    "agent = initialize_agent(\n",
    "    tools, \n",
    "    llm, \n",
    "    agent=\"conversational-react-description\", \n",
    "    verbose=True\n",
    ")\n",
    "\n",
    "input = {}\n",
    "\n",
    "agent.run(\"興味を引くようなブレインパッドの広告を10個作ってください\")"
   ]
  },
  {
   "cell_type": "code",
   "execution_count": 10,
   "metadata": {},
   "outputs": [],
   "source": [
    "search = SerpAPIWrapper()\n",
    "\n",
    "tools = [\n",
    "    Tool(\n",
    "        name = \"Current Search\",\n",
    "        func=search.run,\n",
    "        description=\"useful for when you need to answer questions about current events or the current state of the world. the input to this should be a single search term.\"\n",
    "    ),\n",
    "]\n",
    "\n",
    "# モデルの読み込み\n",
    "llm=ChatOpenAI(temperature=0)\n",
    "\n",
    "# 記憶の追加\n",
    "memory = ConversationBufferMemory(memory_key=\"chat_history\", return_messages=True)\n",
    "\n",
    "agent = initialize_agent(\n",
    "    tools, \n",
    "    llm, \n",
    "    agent=\"chat-conversational-react-description\", \n",
    "    verbose=True, \n",
    "    memory=memory\n",
    "    )"
   ]
  },
  {
   "cell_type": "markdown",
   "metadata": {},
   "source": [
    "## エージェント一覧\n",
    "* https://langchain.readthedocs.io/en/latest/modules/agents/agents.html\n",
    "* どのアクションをどのような順序で行うかを決めるもの\n",
    "* zero-shot-react-description\n",
    "    * \n",
    "* react-docstore\n",
    "    * ドキュメントベースでの回答をする\n",
    "* self-ask-with-search\n",
    "    * 質問に対する事実に基づく回答を検索できる\n",
    "* conversational-react-description\n",
    "    * 会話用に最適化されたエージェント\n",
    "    * 以前の会話のやり取りを記憶できる"
   ]
  },
  {
   "cell_type": "code",
   "execution_count": 20,
   "metadata": {},
   "outputs": [
    {
     "name": "stdout",
     "output_type": "stream",
     "text": [
      "\n",
      "\n",
      "\u001b[1m> Entering new AgentExecutor chain...\u001b[0m\n",
      "\u001b[32;1m\u001b[1;3m```json\n",
      "{\n",
      "    \"action\": \"Current Search\",\n",
      "    \"action_input\": \"株式会社ブレインパッド 最新情報\"\n",
      "}\n",
      "```\u001b[0m\n",
      "Observation: \u001b[36;1m\u001b[1;3mブレインパッドは、2004年の創業以来 変革を目指す企業と共に最前線を走り続ける、データ活用推進パートナーの ... ブレインパッドの最新情報をお知らせします。\u001b[0m\n",
      "Thought:\u001b[32;1m\u001b[1;3m```json\n",
      "{\n",
      "    \"action\": \"Final Answer\",\n",
      "    \"action_input\": \"株式会社ブレインパッドは、データ活用推進パートナーとして、変革を目指す企業と共に最前線を走り続けています。最新情報については、具体的な情報が見つかりませんでした。\"\n",
      "}\n",
      "```\u001b[0m\n",
      "\n",
      "\u001b[1m> Finished chain.\u001b[0m\n"
     ]
    },
    {
     "data": {
      "text/plain": [
       "'株式会社ブレインパッドは、データ活用推進パートナーとして、変革を目指す企業と共に最前線を走り続けています。最新情報については、具体的な情報が見つかりませんでした。'"
      ]
     },
     "execution_count": 20,
     "metadata": {},
     "output_type": "execute_result"
    }
   ],
   "source": [
    "agent.run(input=\"株式会社ブレインパッドについて教えてください\")"
   ]
  },
  {
   "cell_type": "code",
   "execution_count": null,
   "metadata": {},
   "outputs": [],
   "source": []
  }
 ],
 "metadata": {
  "kernelspec": {
   "display_name": "Python 3.10.9 ('base')",
   "language": "python",
   "name": "python3"
  },
  "language_info": {
   "codemirror_mode": {
    "name": "ipython",
    "version": 3
   },
   "file_extension": ".py",
   "mimetype": "text/x-python",
   "name": "python",
   "nbconvert_exporter": "python",
   "pygments_lexer": "ipython3",
   "version": "3.10.9"
  },
  "orig_nbformat": 4,
  "vscode": {
   "interpreter": {
    "hash": "d4d1e4263499bec80672ea0156c357c1ee493ec2b1c70f0acce89fc37c4a6abe"
   }
  }
 },
 "nbformat": 4,
 "nbformat_minor": 2
}
