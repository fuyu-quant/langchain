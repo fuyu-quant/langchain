{
 "cells": [
  {
   "cell_type": "markdown",
   "metadata": {},
   "source": [
    "# Customize Chat model\n",
    "* reference\n",
    "    * https://langchain.readthedocs.io/en/latest/modules/agents/examples/chat_conversation_agent.html\n",
    "    https://note.com/npaka/n/n6b7a07e492f1"
   ]
  },
  {
   "cell_type": "markdown",
   "metadata": {
    "colab_type": "text",
    "id": "view-in-github"
   },
   "source": [
    "[![Open In Colab](https://colab.research.google.com/assets/colab-badge.svg)](https://colab.research.google.com/github/fuyu-quant/langchain/blob/main/examples/customize_chat_model.ipynb)"
   ]
  },
  {
   "cell_type": "code",
   "execution_count": 4,
   "metadata": {},
   "outputs": [],
   "source": [
    "%%capture\n",
    "!pip install langchain\n",
    "!pip install google-search-results\n",
    "!pip install openai\n",
    "!pip install wikipedia"
   ]
  },
  {
   "cell_type": "code",
   "execution_count": 5,
   "metadata": {},
   "outputs": [],
   "source": [
    "from langchain.utilities import SerpAPIWrapper\n",
    "from langchain.chat_models import ChatOpenAI\n",
    "from langchain.llms import OpenAI\n",
    "from langchain.agents import Tool\n",
    "from langchain.agents import load_tools\n",
    "from langchain.memory import ConversationBufferMemory\n",
    "from langchain.agents import initialize_agent"
   ]
  },
  {
   "cell_type": "code",
   "execution_count": null,
   "metadata": {},
   "outputs": [],
   "source": [
    "import os\n",
    "\n",
    "os.environ[\"LANGCHAIN_HANDLER\"] = \"langchain\"\n",
    "os.environ[\"OPENAI_API_KEY\"] = \"\"\n",
    "os.environ[\"SERPAPI_API_KEY\"] = \"\""
   ]
  },
  {
   "cell_type": "markdown",
   "metadata": {},
   "source": [
    "### tool一覧\n",
    "* python_relp\n",
    "    * pythonコマンドを実行できる．\n",
    "* serpapi\n",
    "    * サーチエンジン，現在のイベントに関する質問に答える必要がある場合に役に立つ\n",
    "* requests\n",
    "    * サイトから特定のコンテンツを取得する場合に使う\n",
    "    * 入力はURLで出力はそのページの全てのテキスト\n",
    "* terminal\n",
    "    * ターミナルでのコマンド実行\n",
    "* llm-math\n",
    "    * 数学の計算に答えるよう\n",
    "* pal-math\n",
    "    * 複雑な数学の問題に答えるのに優れた言語モデル\n",
    "* pal-colored-objects\n",
    "    * オブジェクトの位置と色についての推論に優れた言語モデル\n",
    "* open-meteo-api\n",
    "    * 気象情報を取得したい場合に使う\n",
    "* news-api\n",
    "    * 現在のニュース記事のトップ，ヘッドラインに関する情報を取得する\n",
    "* tmdb-api\n",
    "    * The Movie Databaseから情報を取得するのに使う"
   ]
  },
  {
   "cell_type": "code",
   "execution_count": 6,
   "metadata": {},
   "outputs": [],
   "source": [
    "llm = OpenAI(temperature=0)\n",
    "\n",
    "tools = load_tools(\n",
    "    [\"python_repl\",\n",
    "    \"serpapi\",\n",
    "    \"requests\",\n",
    "    \"terminal\",\n",
    "    \"pal-math\",\n",
    "    \"pal-colored-objects\",\n",
    "    \"llm-math\",\n",
    "    \"open-meteo-api\",\n",
    "    #\"news-api\",\n",
    "    #\"tmdb-api\"\n",
    "    ], \n",
    "    llm=llm)"
   ]
  },
  {
   "cell_type": "markdown",
   "metadata": {},
   "source": [
    "### agent一覧\n",
    "* どのアクションをどのような順序で行うかを決めるもの\n",
    "* zero-shot-react-description\n",
    "    * 複数のツールが使用できるエージェント\n",
    "    * ツールの説明に基づいて使うものを決める，ツールには説明文が必ず必要になる\n",
    "* react-docstore\n",
    "    * SearchとLookupの二つのツールを使う．\n",
    "* self-ask-with-search\n",
    "    * intermediate Answerという一つのツールのみ使う\n",
    "* conversational-react-description\n",
    "    * 会話用に最適化されたエージェント，以前の会話を記憶するためメモリが必要になる\n",
    "    * エージェントとユーザーが会話を行い必要な時にツールを呼び出す\n",
    "    * [実装例](https://github.com/fuyu-quant/langchain/blob/main/examples/search_chat_model.ipynb)"
   ]
  },
  {
   "cell_type": "markdown",
   "metadata": {},
   "source": [
    "### react-docstoreを使った実装\n",
    "* https://langchain.readthedocs.io/en/latest/modules/agents/implementations/react.html"
   ]
  },
  {
   "cell_type": "code",
   "execution_count": 12,
   "metadata": {},
   "outputs": [],
   "source": [
    "from langchain import Wikipedia\n",
    "from langchain.agents.react.base import DocstoreExplorer"
   ]
  },
  {
   "cell_type": "code",
   "execution_count": 13,
   "metadata": {},
   "outputs": [],
   "source": [
    "docstore=DocstoreExplorer(Wikipedia())\n",
    "\n",
    "\n",
    "tools = [\n",
    "    Tool(\n",
    "        name=\"Search\",\n",
    "        func=docstore.search,\n",
    "        description=\"useful for when you need to ask with search\"\n",
    "    ),\n",
    "    Tool(\n",
    "        name=\"Lookup\",\n",
    "        func=docstore.lookup,\n",
    "        description=\"useful for when you need to ask with lookup\"\n",
    "    )\n",
    "]\n",
    "\n",
    "\n",
    "llm = OpenAI(temperature=0, model_name=\"text-davinci-002\")\n",
    "\n",
    "\n",
    "agent = initialize_agent(\n",
    "    tools = tools,\n",
    "    llm = llm, \n",
    "    agent=\"react-docstore\", \n",
    "    verbose=True\n",
    "    )"
   ]
  },
  {
   "cell_type": "code",
   "execution_count": 14,
   "metadata": {},
   "outputs": [
    {
     "name": "stdout",
     "output_type": "stream",
     "text": [
      "\n",
      "\n",
      "\u001b[1m> Entering new AgentExecutor chain...\u001b[0m\n",
      "\u001b[32;1m\u001b[1;3m\n",
      "Thought 1: I need to search David Chanoff and find the U.S. Navy admiral he collaborated\n",
      "with.\n",
      "Action 1: Search[David Chanoff]\u001b[0m\n",
      "Observation 1: \u001b[36;1m\u001b[1;3mDavid Chanoff is a noted author of non-fiction work. His work has typically involved collaborations with the principal protagonist of the work concerned. His collaborators have included; Augustus A. White, Joycelyn Elders, Đoàn Văn Toại, William J. Crowe, Ariel Sharon, Kenneth Good and Felix Zandman. He has also written about a wide range of subjects including literary history, education and foreign for The Washington Post, The New Republic and The New York Times Magazine. He has published more than twelve books.\u001b[0m\n",
      "Thought 2:\u001b[32;1m\u001b[1;3m The U.S. Navy admiral David Chanoff collaborated with is William J. Crowe.\n",
      "Action 2: Search[William J. Crowe]\u001b[0m\n",
      "Observation 2: \u001b[36;1m\u001b[1;3mWilliam James Crowe Jr. (January 2, 1925 – October 18, 2007) was a United States Navy admiral and diplomat who served as the 11th chairman of the Joint Chiefs of Staff under Presidents Ronald Reagan and George H. W. Bush, and as the ambassador to the United Kingdom and Chair of the Intelligence Oversight Board under President Bill Clinton.\u001b[0m\n",
      "Thought 3:"
     ]
    },
    {
     "name": "stderr",
     "output_type": "stream",
     "text": [
      "WARNING:root:Failed to persist run: HTTPConnectionPool(host='localhost', port=8000): Max retries exceeded with url: /chain-runs (Caused by NewConnectionError('<urllib3.connection.HTTPConnection object at 0xffff4e233310>: Failed to establish a new connection: [Errno 111] Connection refused'))\n"
     ]
    },
    {
     "name": "stdout",
     "output_type": "stream",
     "text": [
      "\u001b[32;1m\u001b[1;3m The President William J. Crowe served as the ambassador to the United Kingdom under is Bill Clinton.\n",
      "Action 3: Finish[Bill Clinton]\u001b[0m\n",
      "\n",
      "\u001b[1m> Finished chain.\u001b[0m\n"
     ]
    },
    {
     "data": {
      "text/plain": [
       "'Bill Clinton'"
      ]
     },
     "execution_count": 14,
     "metadata": {},
     "output_type": "execute_result"
    }
   ],
   "source": [
    "question = \"Author David Chanoff has collaborated with a U.S. Navy admiral who served as the ambassador to the United Kingdom under which President?\"\n",
    "\n",
    "agent.run(question)"
   ]
  },
  {
   "cell_type": "markdown",
   "metadata": {},
   "source": [
    "### self-ask-with-searchを使った実装"
   ]
  },
  {
   "cell_type": "code",
   "execution_count": null,
   "metadata": {},
   "outputs": [],
   "source": []
  }
 ],
 "metadata": {
  "kernelspec": {
   "display_name": "Python 3.8.13 64-bit ('kaggle')",
   "language": "python",
   "name": "python3"
  },
  "language_info": {
   "codemirror_mode": {
    "name": "ipython",
    "version": 3
   },
   "file_extension": ".py",
   "mimetype": "text/x-python",
   "name": "python",
   "nbconvert_exporter": "python",
   "pygments_lexer": "ipython3",
   "version": "3.8.13"
  },
  "orig_nbformat": 4,
  "vscode": {
   "interpreter": {
    "hash": "0efafe6c13c226858b1e3209a708328284172effb51c12dbb0bda90f2bc21738"
   }
  }
 },
 "nbformat": 4,
 "nbformat_minor": 2
}
