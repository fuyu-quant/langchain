{
 "cells": [
  {
   "cell_type": "markdown",
   "metadata": {},
   "source": [
    "# Models\n",
    "* https://platform.openai.com/docs/models/overview"
   ]
  },
  {
   "cell_type": "markdown",
   "metadata": {},
   "source": [
    "[![Open In Colab](https://colab.research.google.com/assets/colab-badge.svg)](https://colab.research.google.com/github/fuyu-quant/langchain/blob/main/examples/text_summarization.ipynb)"
   ]
  },
  {
   "cell_type": "code",
   "execution_count": null,
   "metadata": {},
   "outputs": [],
   "source": [
    "%%capture\n",
    "!pip install langchain\n",
    "!pip install openai"
   ]
  },
  {
   "cell_type": "code",
   "execution_count": null,
   "metadata": {},
   "outputs": [],
   "source": [
    "from langchain.llms import OpenAI"
   ]
  },
  {
   "cell_type": "markdown",
   "metadata": {},
   "source": [
    "### GPT-4\n",
    "* https://platform.openai.com/docs/models/gpt-4"
   ]
  },
  {
   "cell_type": "code",
   "execution_count": null,
   "metadata": {},
   "outputs": [],
   "source": [
    "#llm = OpenAI(temperature=0, model_name=\"gpt-4\")\n",
    "#llm = OpenAI(temperature=0, model_name=\"gpt-4-0314\")\n",
    "#llm = OpenAI(temperature=0, model_name=\"gpt-4-32k\")\n",
    "#llm = OpenAI(temperature=0, model_name=\"gpt-4-32k-0314\t\")\n"
   ]
  },
  {
   "cell_type": "markdown",
   "metadata": {},
   "source": [
    "### GPT-3.5\n",
    "* https://platform.openai.com/docs/models/gpt-3-5"
   ]
  },
  {
   "cell_type": "code",
   "execution_count": null,
   "metadata": {},
   "outputs": [],
   "source": [
    "#llm = OpenAI(temperature=0, model_name=\"gpt-3.5-turbo\")\n",
    "#llm = OpenAI(temperature=0, model_name=\"gpt-3.5-turbo-0301\")\n",
    "#llm = OpenAI(temperature=0, model_name=\"text-davinci-003\")\n",
    "#llm = OpenAI(temperature=0, model_name=\"text-davinci-002\")\n",
    "#llm = OpenAI(temperature=0, model_name=\"code-davinci-002\")"
   ]
  },
  {
   "cell_type": "markdown",
   "metadata": {},
   "source": [
    "### GPT-3\n",
    "* https://platform.openai.com/docs/models/gpt-3"
   ]
  },
  {
   "cell_type": "code",
   "execution_count": null,
   "metadata": {},
   "outputs": [],
   "source": [
    "#llm = OpenAI(temperature=0, model_name=\"text-curie-001\")\n",
    "#llm = OpenAI(temperature=0, model_name=\"text-babbage-001\")\n",
    "#llm = OpenAI(temperature=0, model_name=\"text-ada-001\")\n",
    "#llm = OpenAI(temperature=0, model_name=\"davinci\")\n",
    "#llm = OpenAI(temperature=0, model_name=\"curie\")\n",
    "#llm = OpenAI(temperature=0, model_name=\"babbage\")\n",
    "#llm = OpenAI(temperature=0, model_name=\"ada\")"
   ]
  }
 ],
 "metadata": {
  "kernelspec": {
   "display_name": "Python 3.10.6 64-bit",
   "language": "python",
   "name": "python3"
  },
  "language_info": {
   "name": "python",
   "version": "3.10.6"
  },
  "orig_nbformat": 4,
  "vscode": {
   "interpreter": {
    "hash": "31f2aee4e71d21fbe5cf8b01ff0e069b9275f58929596ceb00d14d90e3e16cd6"
   }
  }
 },
 "nbformat": 4,
 "nbformat_minor": 2
}
