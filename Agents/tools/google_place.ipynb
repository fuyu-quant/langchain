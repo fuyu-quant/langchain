{
 "cells": [
  {
   "cell_type": "markdown",
   "metadata": {},
   "source": [
    "# Google Places\n",
    "* https://python.langchain.com/en/latest/modules/agents/tools/examples/google_places.html"
   ]
  },
  {
   "cell_type": "code",
   "execution_count": 1,
   "metadata": {},
   "outputs": [],
   "source": [
    "%%capture\n",
    "!pip install googlemaps\n",
    "!pip install langchain==0.0.145"
   ]
  },
  {
   "cell_type": "code",
   "execution_count": 4,
   "metadata": {},
   "outputs": [
    {
     "data": {
      "text/plain": [
       "'1. Roppongi Hills\\nAddress: 6-chōme-10-1 Roppongi, Minato City, Tokyo 106-6108, Japan\\nPhone: 03-6406-6000\\nWebsite: https://www.roppongihills.com/\\n\\n\\n2. Tokyo City View\\nAddress: Japan, 〒106-0032 Tokyo, Minato City, Roppongi, 6-chōme−10−１, Roppongi Hills Mori Tower, 52階\\nPhone: 03-6406-6652\\nWebsite: https://tcv.roppongihills.com/\\n\\n'"
      ]
     },
     "execution_count": 4,
     "metadata": {},
     "output_type": "execute_result"
    }
   ],
   "source": [
    "from langchain.tools import GooglePlacesTool\n",
    "\n",
    "places = GooglePlacesTool()\n",
    "places.run(\"Roppongi Hills Tokyo\")"
   ]
  },
  {
   "cell_type": "code",
   "execution_count": null,
   "metadata": {},
   "outputs": [],
   "source": []
  }
 ],
 "metadata": {
  "kernelspec": {
   "display_name": "Python 3.10.9 ('base')",
   "language": "python",
   "name": "python3"
  },
  "language_info": {
   "codemirror_mode": {
    "name": "ipython",
    "version": 3
   },
   "file_extension": ".py",
   "mimetype": "text/x-python",
   "name": "python",
   "nbconvert_exporter": "python",
   "pygments_lexer": "ipython3",
   "version": "3.10.9"
  },
  "orig_nbformat": 4,
  "vscode": {
   "interpreter": {
    "hash": "d4d1e4263499bec80672ea0156c357c1ee493ec2b1c70f0acce89fc37c4a6abe"
   }
  }
 },
 "nbformat": 4,
 "nbformat_minor": 2
}
