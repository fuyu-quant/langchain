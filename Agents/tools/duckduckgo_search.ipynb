{
 "cells": [
  {
   "cell_type": "markdown",
   "metadata": {},
   "source": [
    "# DuckDuckGo Search\n",
    "* https://python.langchain.com/en/latest/modules/agents/tools/examples/ddg.html"
   ]
  },
  {
   "cell_type": "code",
   "execution_count": 1,
   "metadata": {},
   "outputs": [],
   "source": [
    "%%capture\n",
    "!pip install duckduckgo-search\n",
    "!pip install langchain==0.0.145"
   ]
  },
  {
   "cell_type": "code",
   "execution_count": 3,
   "metadata": {},
   "outputs": [
    {
     "data": {
      "text/plain": [
       "'株式会社ブレインパッドは、2023年3月28日開催の取締役会において、代表取締役の異動について決議いたしました。. 創業者である佐藤 清之輔、高橋 隆史が代表取締役を退任し、2023年7月1日付にて、関口 朋宏（現・取締役 執行役員CGO）が代表取締役に就任 ... ブレインパッド、Co-Creation型の新オフィスへ本社移転を完了、5月2日より営業開始 株式会社ブレインパッドは、2022年3月24日（木）に発表のとおり、本社を六本木ティーキューブ（東京都港区六本木）へ移転し、2022年5月2日（月）より営業を開始したことをお知らせいたします。 ブレインパッドの平均年収は721万円. ブレインパッドの 平均年収は721万円 です。. 去年の全国平均年収430万円より67.7%高いです。. 過去のデータを見ると581万円 (最低)から738万円 (最高)の範囲で推移しています。. この平均収入は賞与を含んだ金額です (一部 ... ブレインパッドの評判③：激務. 超激務です。. 2～3年で退職する人が多く、人材採用は「商品の仕入れ」の様な感覚です。. これは勿体ないですね。. 優秀な分析家は短期間で育つものではないので、長く勤めてもらった方が良いはずです。. 管理人. 待遇を ... ブレインパッド、代表取締役の異動に関するお知らせ. 2023.03.08. 経営と現場が一体となれる、具体的なDX戦略の実現に向けて。. 国内最大級の視聴規模となるDXプレミアムイベント「DOORS BrainPad DX Conference 2023」6月5日より開催. 2023.02.28. [株式会社TimeTechnologies ...'"
      ]
     },
     "execution_count": 3,
     "metadata": {},
     "output_type": "execute_result"
    }
   ],
   "source": [
    "from langchain.tools import DuckDuckGoSearchTool\n",
    "\n",
    "search = DuckDuckGoSearchTool()\n",
    "\n",
    "search.run(\"株式会社ブレインパッドとは?\")"
   ]
  },
  {
   "cell_type": "code",
   "execution_count": null,
   "metadata": {},
   "outputs": [],
   "source": []
  }
 ],
 "metadata": {
  "kernelspec": {
   "display_name": "Python 3.10.9 ('base')",
   "language": "python",
   "name": "python3"
  },
  "language_info": {
   "codemirror_mode": {
    "name": "ipython",
    "version": 3
   },
   "file_extension": ".py",
   "mimetype": "text/x-python",
   "name": "python",
   "nbconvert_exporter": "python",
   "pygments_lexer": "ipython3",
   "version": "3.10.9"
  },
  "orig_nbformat": 4,
  "vscode": {
   "interpreter": {
    "hash": "d4d1e4263499bec80672ea0156c357c1ee493ec2b1c70f0acce89fc37c4a6abe"
   }
  }
 },
 "nbformat": 4,
 "nbformat_minor": 2
}
